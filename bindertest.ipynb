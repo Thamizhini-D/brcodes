{
 "cells": [
  {
   "cell_type": "code",
   "execution_count": 5,
   "id": "828e759a",
   "metadata": {},
   "outputs": [
    {
     "data": {
      "application/vnd.jupyter.widget-view+json": {
       "model_id": "4e9d93a1ae7a402ab72dfe361d7b8bf7",
       "version_major": 2,
       "version_minor": 0
      },
      "text/plain": [
       "FileUpload(value={}, description='Upload your file')"
      ]
     },
     "metadata": {},
     "output_type": "display_data"
    }
   ],
   "source": [
    "import ipywidgets as widgets\n",
    "\n",
    "uploader = widgets.FileUpload(description = \"Upload your file\", multiple=False)\n",
    "display(uploader)\n",
    "\n",
    "def on_upload_change(uploaded_file):\n",
    "    uploaded_file = list(uploader.value.values())[0]\n",
    "    content = pd.read_excel(io.BytesIO(uploaded_file['content']))\n",
    "    return display(content)\n",
    "    \n",
    "uploader.observe(on_upload_change, names='value') "
   ]
  },
  {
   "cell_type": "code",
   "execution_count": null,
   "id": "0860202f",
   "metadata": {},
   "outputs": [],
   "source": []
  }
 ],
 "metadata": {
  "kernelspec": {
   "display_name": "Python 3",
   "language": "python",
   "name": "python3"
  },
  "language_info": {
   "codemirror_mode": {
    "name": "ipython",
    "version": 3
   },
   "file_extension": ".py",
   "mimetype": "text/x-python",
   "name": "python",
   "nbconvert_exporter": "python",
   "pygments_lexer": "ipython3",
   "version": "3.8.8"
  }
 },
 "nbformat": 4,
 "nbformat_minor": 5
}
